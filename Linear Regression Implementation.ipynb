{
 "cells": [
  {
   "cell_type": "markdown",
   "metadata": {},
   "source": [
    "# Import used libraries"
   ]
  },
  {
   "cell_type": "code",
   "execution_count": 6,
   "metadata": {},
   "outputs": [],
   "source": [
    "import pandas as pd\n",
    "import numpy as np\n",
    "import matplotlib.pyplot as plt"
   ]
  },
  {
   "cell_type": "markdown",
   "metadata": {},
   "source": [
    "# Create Train-Test split and fix data"
   ]
  },
  {
   "cell_type": "code",
   "execution_count": 7,
   "metadata": {},
   "outputs": [
    {
     "name": "stdout",
     "output_type": "stream",
     "text": [
      "(699, 1)\n"
     ]
    }
   ],
   "source": [
    "train_data = pd.read_csv(\"train.csv\")\n",
    "test_data = pd.read_csv(\"test.csv\")\n",
    "\n",
    "train_data.dropna(inplace=True) # Only for test purposes, it is not recommended to mindlessly drop data\n",
    "train_data.reset_index(drop=True, inplace=True)\n",
    "\n",
    "test_data.dropna(inplace=True) # Only for test purposes, it is not recommended to mindlessly drop data\n",
    "test_data.reset_index(drop=True, inplace=True)\n",
    "\n",
    "# Training data\n",
    "x_train = np.array(train_data.loc[:, train_data.columns != \"y\"])\n",
    "y_train = np.array(train_data.loc[:, \"y\"])[:, np.newaxis]\n",
    "\n",
    "# Testing data\n",
    "y_test = np.array(test_data.loc[:, \"y\"])[:, np.newaxis]\n",
    "x_test = np.array(test_data.loc[:, test_data.columns != \"y\"])\n",
    "\n",
    "# Parameters initialization\n",
    "w = np.zeros((1,x_train.shape[1]))\n",
    "b = 0"
   ]
  },
  {
   "cell_type": "markdown",
   "metadata": {},
   "source": [
    "# Define Functions"
   ]
  },
  {
   "cell_type": "code",
   "execution_count": 8,
   "metadata": {},
   "outputs": [],
   "source": [
    "def linear_function(x: np.array, w:np.array, b:float):\n",
    "    if not isinstance(w, np.ndarray): # To make sure the weights are in an array\n",
    "        raise TypeError(f\"w should be a NumPy array not a {type(w).__name__}\")\n",
    "    \n",
    "    if x.shape[1] == w.shape[0]: # To make sure the shapes are compatible\n",
    "        return (x @ w) + b # W . X + B\n",
    "    else:\n",
    "        raise ValueError(f\"w should be ({x.shape[1]},{1}) not {w.shape}\")"
   ]
  },
  {
   "cell_type": "code",
   "execution_count": 9,
   "metadata": {},
   "outputs": [],
   "source": [
    "def mse(x, y, w, b): # Mean Squared Error\n",
    "    m = x.shape[0] # Number of training examples\n",
    "    try:\n",
    "        return (1/(2*m)) * (np.sum((linear_function(x, w, b)-y)**2, axis=0))\n",
    "    except ValueError:\n",
    "        return (1/(2*m)) * (np.sum((linear_function(x, w.T, b)-y)**2, axis=0))\n",
    "    "
   ]
  },
  {
   "cell_type": "code",
   "execution_count": 10,
   "metadata": {},
   "outputs": [],
   "source": [
    "def gradient_descent(x, y, w, b, iters = 2000, alpha=0.001, automatic_test = False, thresh=0.001):\n",
    "    m = x.shape[0] # Number of training examples\n",
    "    loss_hist = []\n",
    "    cost = mse(x, y, w, b)\n",
    "    loss_hist.append(cost)\n",
    "    if automatic_test == False:\n",
    "        for i in range(iters): # Gradient descent is an iterative algorithm\n",
    "            try:\n",
    "                f = linear_function(x, w, b)\n",
    "            except ValueError:\n",
    "                f = linear_function(x, w.T, b)\n",
    "            dw = (1/(m)) * np.sum((f-y)*x, axis=0) # Derivative of the cost w.r.t w\n",
    "            db = (1/m) * np.sum(f-y, axis=0) # Derivative of the cost w.r.t b\n",
    "    \n",
    "            w = w - (alpha*dw) # Updated values of W\n",
    "            b = b - (alpha*db) # updated value of b\n",
    "            \n",
    "            cost_old = cost # to check the difference between them\n",
    "            cost = mse(x, y, w, b) # update cost\n",
    "            loss_hist.append(cost)\n",
    "\n",
    "            print(f\"Iteration #{i+1}\\t\\tCost = {cost}\\t\\tw = {w}\\t\\tb = {b}\")\n",
    "            if (cost > cost_old): # if the cost increases even once that means that alpha is too big\n",
    "                return f\"Alpha is too big!\\nOld Cost = {cost_old}, New Cost = {cost}\"\n",
    "        return w, b, loss_hist\n",
    "    else:\n",
    "        i=0\n",
    "        while True: # Gradient descent is an iterative algorithm\n",
    "            i += 1\n",
    "            try:\n",
    "                f = linear_function(x, w, b)\n",
    "            except ValueError:\n",
    "                f = linear_function(x, w.T, b)\n",
    "            dw = (1/(m)) * np.sum((f-y)*x, axis=0) # Derivative of the cost w.r.t w\n",
    "            db = (1/m) * np.sum(f-y, axis=0) # Derivative of the cost w.r.t b\n",
    "    \n",
    "            w = w - (alpha*dw) # Updated values of W\n",
    "            b = b - (alpha*db) # updated value of b\n",
    "            \n",
    "            cost_old = cost # to check the difference between them\n",
    "            cost = mse(x, y, w, b) # update cost\n",
    "            loss_hist.append(cost)\n",
    "            \n",
    "            print(f\"Iteration #{i+1}\\t\\tCost = {cost}\\t\\tw = {w}\\t\\tb = {b}\")\n",
    "\n",
    "            if (cost > cost_old): # if the cost increases even once that means that alpha is too big\n",
    "                raise ValueError(f\"Alpha is too big!\\nOld Cost = {cost_old}, New Cost = {cost}\")\n",
    "            if (cost_old - cost) <= thresh: # Automatic convergence test\n",
    "                return w, b, loss_hist\n",
    "                break"
   ]
  },
  {
   "cell_type": "markdown",
   "metadata": {},
   "source": [
    "# Test the Algorithm"
   ]
  },
  {
   "cell_type": "code",
   "execution_count": null,
   "metadata": {
    "scrolled": true
   },
   "outputs": [],
   "source": [
    "# w_new, b_new, loss_hist = gradient_descent(x_train, \n",
    "#                                            y_train, \n",
    "#                                            w, \n",
    "#                                            b,\n",
    "#                                            automatic_test=True, \n",
    "#                                            thresh=0.0000001,\n",
    "#                                            alpha = 0.0000001) # play with the values of alpha and thresh alittle bit to see the effects they have!\n",
    "\n",
    "w_new, b_new, loss_hist = gradient_descent(x_train, \n",
    "                                           y_train, \n",
    "                                           w, \n",
    "                                           b,\n",
    "                                           alpha = 0.0000001,\n",
    "                                           iters = 17000) # You could set this as low as 15K and it's fine, more than that gives better performance but by a really really small margin, and less than 15K is generally not recommended although i do encourage you to set this to any number to see the effects it has!\n",
    "\n",
    "w_new, b_new"
   ]
  },
  {
   "cell_type": "code",
   "execution_count": null,
   "metadata": {},
   "outputs": [],
   "source": [
    "# print(linear_function(x_test, w_new, b_new))\n",
    "\n",
    "print(f\"Cost: \",mse(x_train, y_train, w_new, b_new))"
   ]
  },
  {
   "cell_type": "markdown",
   "metadata": {},
   "source": [
    "# Plot the loss function"
   ]
  },
  {
   "cell_type": "code",
   "execution_count": null,
   "metadata": {},
   "outputs": [],
   "source": [
    "plt.xlabel(\"#Iterations\")\n",
    "plt.ylabel(\"Cost\")\n",
    "plt.title(\"The cost per number of iterations on gradient descnet\")\n",
    "\n",
    "plt.plot(loss_hist)\n",
    "plt.show()"
   ]
  },
  {
   "cell_type": "markdown",
   "metadata": {},
   "source": [
    "# Plot the regression line over the data"
   ]
  },
  {
   "cell_type": "code",
   "execution_count": null,
   "metadata": {},
   "outputs": [],
   "source": [
    "plt.plot(x_test, linear_function(x_test, w_new, b_new), color=\"r\")\n",
    "plt.scatter(x_test, y_test)\n",
    "plt.show()"
   ]
  },
  {
   "cell_type": "code",
   "execution_count": null,
   "metadata": {},
   "outputs": [],
   "source": []
  }
 ],
 "metadata": {
  "kernelspec": {
   "display_name": "mlpy",
   "language": "python",
   "name": "mlpy"
  },
  "language_info": {
   "codemirror_mode": {
    "name": "ipython",
    "version": 3
   },
   "file_extension": ".py",
   "mimetype": "text/x-python",
   "name": "python",
   "nbconvert_exporter": "python",
   "pygments_lexer": "ipython3",
   "version": "3.12.3"
  }
 },
 "nbformat": 4,
 "nbformat_minor": 4
}
