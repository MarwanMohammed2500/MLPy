{
 "cells": [
  {
   "cell_type": "markdown",
   "id": "c676033b",
   "metadata": {},
   "source": [
    "# Import Libraries"
   ]
  },
  {
   "cell_type": "code",
   "execution_count": 1,
   "id": "e00ea4b8",
   "metadata": {},
   "outputs": [],
   "source": [
    "import pandas as pd\n",
    "import numpy as np\n",
    "import matplotlib.pyplot as plt\n",
    "from sklearn.linear_model import LinearRegression # Using SK's LinearRegression class\n",
    "from sklearn.metrics import mean_squared_error, root_mean_squared_error # To estimate MSE and RMSE of both models"
   ]
  },
  {
   "cell_type": "markdown",
   "id": "dacf5bc9",
   "metadata": {},
   "source": [
    "# Implement a custom LinearRegression class"
   ]
  },
  {
   "cell_type": "code",
   "execution_count": 2,
   "id": "0e1c7388",
   "metadata": {},
   "outputs": [],
   "source": [
    "class CustomLinearRegression: # Custom Linear Regression Class (Implementing a close version to SK's own LinearRegression class)\n",
    "    def __init__(self, x, y):\n",
    "        self.x = x\n",
    "        self.y = y\n",
    "\n",
    "    def fit(self): # Using OLS via RSS\n",
    "        y_bar = self.y.mean()\n",
    "        x_bar = pd.DataFrame(self.x.mean())\n",
    "        self.w = pd.Series(np.linalg.inv(self.x.T.dot(self.x).to_numpy()).dot(self.x.T.dot(self.y))).values\n",
    "        e = y_bar - np.dot(self.w, x_bar)\n",
    "        self.b = np.sqrt((e.T.dot(e))/(self.x.shape[0]-self.x.shape[1]))\n",
    "\n",
    "    def predict(self, x): # X.W + B\n",
    "        return np.add(np.dot(x, self.w), self.b)\n",
    "\n",
    "    def fit_predict(self, x): # fit the model and predict new input in the same function\n",
    "        self.fit()\n",
    "        return self.predict(x)"
   ]
  },
  {
   "cell_type": "markdown",
   "id": "b45801a9",
   "metadata": {},
   "source": [
    "# Initialize the Dataset"
   ]
  },
  {
   "cell_type": "code",
   "execution_count": 3,
   "id": "efcf2f9f",
   "metadata": {},
   "outputs": [],
   "source": [
    "train = pd.read_csv(\"train.csv\").dropna() # Train Dataset\n",
    "test = pd.read_csv(\"test.csv\") # Test Dataset\n",
    "x_train, y_train = train.drop(\"y\", axis=1), train.y\n",
    "x_test, y_test = test.drop(\"y\", axis=1), test.y"
   ]
  },
  {
   "cell_type": "markdown",
   "id": "059ff7ef",
   "metadata": {},
   "source": [
    "# Fit and test the model using the Custom LinearRegression class"
   ]
  },
  {
   "cell_type": "code",
   "execution_count": 4,
   "id": "4d9f1701",
   "metadata": {},
   "outputs": [
    {
     "name": "stdout",
     "output_type": "stream",
     "text": [
      "W (Coeffecients/Weights) = [0.99904948]\n",
      "B (Intercept/Bias) = 0.0010180761646884937\n",
      "RSS = 2835.9658980020777\n",
      "MSE = 9.453219660006926\n",
      "RMSE = 3.074608862929873\n"
     ]
    }
   ],
   "source": [
    "cust_lin_reg = CustomLinearRegression(x_train, y_train)\n",
    "y_pred = cust_lin_reg.fit_predict(x_test)\n",
    "rss = y_test.subtract(y_pred).pow(2).sum()\n",
    "mse = mean_squared_error(y_test, y_pred)\n",
    "print(f\"W (Coeffecients/Weights) = {cust_lin_reg.w}\\nB (Intercept/Bias) = {cust_lin_reg.b}\",\n",
    "      f\"RSS = {rss}\\nMSE = {mean_squared_error(y_test, y_pred)}\\nRMSE = {root_mean_squared_error(y_test, y_pred)}\",\n",
    "      sep='\\n')"
   ]
  },
  {
   "cell_type": "markdown",
   "id": "4a400123",
   "metadata": {},
   "source": [
    "# Fit and test the model using SciKit-Learn's LinearRegression class"
   ]
  },
  {
   "cell_type": "code",
   "execution_count": 5,
   "id": "b1fd3372",
   "metadata": {},
   "outputs": [
    {
     "name": "stdout",
     "output_type": "stream",
     "text": [
      "W (Coeffecients/Weights) = [1.00065638]\n",
      "B (Intercept/Bias) = -0.10726546430097272\n",
      "RSS = 2829.8766576117914\n",
      "MSE = 9.432922192039305\n",
      "RMSE = 3.071306268029827\n"
     ]
    }
   ],
   "source": [
    "lin_reg = LinearRegression()\n",
    "lin_reg.fit(x_train, y_train)\n",
    "y_pred_2 = lin_reg.predict(x_test)\n",
    "rss = y_test.subtract(y_pred_2).pow(2).sum()\n",
    "mse = mean_squared_error(y_test, y_pred_2)\n",
    "print(f\"W (Coeffecients/Weights) = {lin_reg.coef_}\\nB (Intercept/Bias) = {lin_reg.intercept_}\",\n",
    "      f\"RSS = {rss}\\nMSE = {mean_squared_error(y_test, y_pred_2)}\\nRMSE = {root_mean_squared_error(y_test, y_pred_2)}\",\n",
    "      sep='\\n')"
   ]
  }
 ],
 "metadata": {
  "kernelspec": {
   "display_name": "base",
   "language": "python",
   "name": "python3"
  },
  "language_info": {
   "codemirror_mode": {
    "name": "ipython",
    "version": 3
   },
   "file_extension": ".py",
   "mimetype": "text/x-python",
   "name": "python",
   "nbconvert_exporter": "python",
   "pygments_lexer": "ipython3",
   "version": "3.13.3"
  }
 },
 "nbformat": 4,
 "nbformat_minor": 5
}
